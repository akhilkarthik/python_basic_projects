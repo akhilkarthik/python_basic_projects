{
 "cells": [
  {
   "cell_type": "code",
   "execution_count": 130,
   "id": "75b3096c",
   "metadata": {},
   "outputs": [],
   "source": [
    "#word counter"
   ]
  },
  {
   "cell_type": "code",
   "execution_count": 132,
   "id": "ba02b402",
   "metadata": {},
   "outputs": [],
   "source": [
    "path=\"C:\\\\Users\\\\akhil\\OneDrive\\Desktop\\python\\py1.txt\"                             # addig the path of the file"
   ]
  },
  {
   "cell_type": "code",
   "execution_count": 133,
   "id": "6e4e9da7",
   "metadata": {},
   "outputs": [],
   "source": [
    "datas=open(path)                             # opening the file to \"datas\" variable"
   ]
  },
  {
   "cell_type": "code",
   "execution_count": 121,
   "id": "1479e920",
   "metadata": {},
   "outputs": [],
   "source": [
    "d=[]                             # creating a list"
   ]
  },
  {
   "cell_type": "code",
   "execution_count": 122,
   "id": "05c8bc34",
   "metadata": {},
   "outputs": [],
   "source": [
    "data=datas.read() "
   ]
  },
  {
   "cell_type": "code",
   "execution_count": 123,
   "id": "c1404cc7",
   "metadata": {},
   "outputs": [],
   "source": [
    "w=data.strip()           # removing the unwanted spaces"
   ]
  },
  {
   "cell_type": "code",
   "execution_count": 124,
   "id": "e7fddd71",
   "metadata": {},
   "outputs": [],
   "source": [
    "words=w.split()              # spliting the sentances into list of words"
   ]
  },
  {
   "cell_type": "code",
   "execution_count": 125,
   "id": "108e5632",
   "metadata": {},
   "outputs": [],
   "source": [
    "count=0\n",
    "for i in words:\n",
    "    d.append(i)\n",
    "    count+=1"
   ]
  },
  {
   "cell_type": "code",
   "execution_count": 127,
   "id": "2ce4c458",
   "metadata": {},
   "outputs": [
    {
     "name": "stdout",
     "output_type": "stream",
     "text": [
      "113\n"
     ]
    }
   ],
   "source": [
    "print(count)"
   ]
  },
  {
   "cell_type": "code",
   "execution_count": 129,
   "id": "9f8c199e",
   "metadata": {},
   "outputs": [],
   "source": [
    "# we got the count of words"
   ]
  }
 ],
 "metadata": {
  "kernelspec": {
   "display_name": "Python 3 (ipykernel)",
   "language": "python",
   "name": "python3"
  },
  "language_info": {
   "codemirror_mode": {
    "name": "ipython",
    "version": 3
   },
   "file_extension": ".py",
   "mimetype": "text/x-python",
   "name": "python",
   "nbconvert_exporter": "python",
   "pygments_lexer": "ipython3",
   "version": "3.11.4"
  }
 },
 "nbformat": 4,
 "nbformat_minor": 5
}
